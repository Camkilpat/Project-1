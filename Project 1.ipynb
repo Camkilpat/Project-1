{
 "cells": [
  {
   "cell_type": "code",
<<<<<<< HEAD
   "execution_count": 84,
=======
   "execution_count": 6,
>>>>>>> 579ef7442b295931a921af03ebca6cc7af572262
   "metadata": {},
   "outputs": [],
   "source": [
    "#Import \n",
    "import matplotlib.pyplot as plt\n",
    "import pandas as pd\n",
    "import scipy.stats as st\n",
    "import numpy as np\n",
    "from scipy.stats import linregress\n",
    "from sklearn import datasets\n",
    "from pprint import pprint\n"
   ]
  },
  {
   "cell_type": "code",
<<<<<<< HEAD
   "execution_count": 85,
=======
   "execution_count": 7,
>>>>>>> 579ef7442b295931a921af03ebca6cc7af572262
   "metadata": {},
   "outputs": [
    {
     "data": {
      "text/html": [
       "<div>\n",
       "<style scoped>\n",
       "    .dataframe tbody tr th:only-of-type {\n",
       "        vertical-align: middle;\n",
       "    }\n",
       "\n",
       "    .dataframe tbody tr th {\n",
       "        vertical-align: top;\n",
       "    }\n",
       "\n",
       "    .dataframe thead th {\n",
       "        text-align: right;\n",
       "    }\n",
       "</style>\n",
       "<table border=\"1\" class=\"dataframe\">\n",
       "  <thead>\n",
       "    <tr style=\"text-align: right;\">\n",
       "      <th></th>\n",
       "      <th>Name</th>\n",
       "      <th>Platform</th>\n",
       "      <th>Year</th>\n",
       "      <th>Genre</th>\n",
       "      <th>Company</th>\n",
       "      <th>North American Sales</th>\n",
       "      <th>European Sales</th>\n",
       "      <th>Japan Sales</th>\n",
       "      <th>Other Sales</th>\n",
       "      <th>Global Sales</th>\n",
       "    </tr>\n",
       "    <tr>\n",
       "      <th>Rank</th>\n",
       "      <th></th>\n",
       "      <th></th>\n",
       "      <th></th>\n",
       "      <th></th>\n",
       "      <th></th>\n",
       "      <th></th>\n",
       "      <th></th>\n",
       "      <th></th>\n",
       "      <th></th>\n",
       "      <th></th>\n",
       "    </tr>\n",
       "  </thead>\n",
       "  <tbody>\n",
       "    <tr>\n",
       "      <td>1</td>\n",
       "      <td>Wii Sports</td>\n",
       "      <td>Wii</td>\n",
       "      <td>2006.0</td>\n",
       "      <td>Sports</td>\n",
       "      <td>Nintendo</td>\n",
       "      <td>41.49</td>\n",
       "      <td>29.02</td>\n",
       "      <td>3.77</td>\n",
       "      <td>8.46</td>\n",
       "      <td>82.74</td>\n",
       "    </tr>\n",
       "    <tr>\n",
       "      <td>2</td>\n",
       "      <td>Super Mario Bros.</td>\n",
       "      <td>NES</td>\n",
       "      <td>1985.0</td>\n",
       "      <td>Platform</td>\n",
       "      <td>Nintendo</td>\n",
       "      <td>29.08</td>\n",
       "      <td>3.58</td>\n",
       "      <td>6.81</td>\n",
       "      <td>0.77</td>\n",
       "      <td>40.24</td>\n",
       "    </tr>\n",
       "    <tr>\n",
       "      <td>3</td>\n",
       "      <td>Mario Kart Wii</td>\n",
       "      <td>Wii</td>\n",
       "      <td>2008.0</td>\n",
       "      <td>Racing</td>\n",
       "      <td>Nintendo</td>\n",
       "      <td>15.85</td>\n",
       "      <td>12.88</td>\n",
       "      <td>3.79</td>\n",
       "      <td>3.31</td>\n",
       "      <td>35.82</td>\n",
       "    </tr>\n",
       "    <tr>\n",
       "      <td>4</td>\n",
       "      <td>Wii Sports Resort</td>\n",
       "      <td>Wii</td>\n",
       "      <td>2009.0</td>\n",
       "      <td>Sports</td>\n",
       "      <td>Nintendo</td>\n",
       "      <td>15.75</td>\n",
       "      <td>11.01</td>\n",
       "      <td>3.28</td>\n",
       "      <td>2.96</td>\n",
       "      <td>33.00</td>\n",
       "    </tr>\n",
       "    <tr>\n",
       "      <td>5</td>\n",
       "      <td>Pokemon Red/Pokemon Blue</td>\n",
       "      <td>GB</td>\n",
       "      <td>1996.0</td>\n",
       "      <td>Role-Playing</td>\n",
       "      <td>Nintendo</td>\n",
       "      <td>11.27</td>\n",
       "      <td>8.89</td>\n",
       "      <td>10.22</td>\n",
       "      <td>1.00</td>\n",
       "      <td>31.37</td>\n",
       "    </tr>\n",
       "  </tbody>\n",
       "</table>\n",
       "</div>"
      ],
      "text/plain": [
       "                          Name Platform    Year         Genre   Company  \\\n",
       "Rank                                                                      \n",
       "1                   Wii Sports      Wii  2006.0        Sports  Nintendo   \n",
       "2            Super Mario Bros.      NES  1985.0      Platform  Nintendo   \n",
       "3               Mario Kart Wii      Wii  2008.0        Racing  Nintendo   \n",
       "4            Wii Sports Resort      Wii  2009.0        Sports  Nintendo   \n",
       "5     Pokemon Red/Pokemon Blue       GB  1996.0  Role-Playing  Nintendo   \n",
       "\n",
       "      North American Sales  European Sales  Japan Sales  Other Sales  \\\n",
       "Rank                                                                   \n",
       "1                    41.49           29.02         3.77         8.46   \n",
       "2                    29.08            3.58         6.81         0.77   \n",
       "3                    15.85           12.88         3.79         3.31   \n",
       "4                    15.75           11.01         3.28         2.96   \n",
       "5                    11.27            8.89        10.22         1.00   \n",
       "\n",
       "      Global Sales  \n",
       "Rank                \n",
       "1            82.74  \n",
       "2            40.24  \n",
       "3            35.82  \n",
       "4            33.00  \n",
       "5            31.37  "
      ]
     },
<<<<<<< HEAD
     "execution_count": 85,
=======
     "execution_count": 7,
>>>>>>> 579ef7442b295931a921af03ebca6cc7af572262
     "metadata": {},
     "output_type": "execute_result"
    }
   ],
   "source": [
    "#Read CSV and make dataframe\n",
    "path = 'Data/vgsales.csv'\n",
    "video_games_df = pd.read_csv(path)\n",
    "video_games_df = video_games_df.rename(columns = {\"Publisher\": \"Company\",\n",
    "                                                 \"NA_Sales\": \"North American Sales\",\n",
    "                                                 \"EU_Sales\": \"European Sales\",\n",
    "                                                 \"JP_Sales\": \"Japan Sales\",\n",
    "                                                 \"Other_Sales\": \"Other Sales\",\n",
    "                                                 \"Global_Sales\": \"Global Sales\"})\n",
    "video_games_df = video_games_df.set_index(\"Rank\")\n",
    "video_games_df.head()\n"
   ]
  },
  {
   "cell_type": "code",
<<<<<<< HEAD
   "execution_count": 92,
=======
   "execution_count": 29,
>>>>>>> 579ef7442b295931a921af03ebca6cc7af572262
   "metadata": {},
   "outputs": [
    {
     "data": {
<<<<<<< HEAD
      "text/html": [
       "<div>\n",
       "<style scoped>\n",
       "    .dataframe tbody tr th:only-of-type {\n",
       "        vertical-align: middle;\n",
       "    }\n",
       "\n",
       "    .dataframe tbody tr th {\n",
       "        vertical-align: top;\n",
       "    }\n",
       "\n",
       "    .dataframe thead th {\n",
       "        text-align: right;\n",
       "    }\n",
       "</style>\n",
       "<table border=\"1\" class=\"dataframe\">\n",
       "  <thead>\n",
       "    <tr style=\"text-align: right;\">\n",
       "      <th></th>\n",
       "      <th>Name</th>\n",
       "      <th>Platform</th>\n",
       "      <th>Year</th>\n",
       "      <th>Genre</th>\n",
       "      <th>Company</th>\n",
       "      <th>North American Sales</th>\n",
       "      <th>European Sales</th>\n",
       "      <th>Japan Sales</th>\n",
       "      <th>Other Sales</th>\n",
       "      <th>Global Sales</th>\n",
       "    </tr>\n",
       "    <tr>\n",
       "      <th>Rank</th>\n",
       "      <th></th>\n",
       "      <th></th>\n",
       "      <th></th>\n",
       "      <th></th>\n",
       "      <th></th>\n",
       "      <th></th>\n",
       "      <th></th>\n",
       "      <th></th>\n",
       "      <th></th>\n",
       "      <th></th>\n",
       "    </tr>\n",
       "  </thead>\n",
       "  <tbody>\n",
       "    <tr>\n",
       "      <td>1</td>\n",
       "      <td>Wii Sports</td>\n",
       "      <td>Wii</td>\n",
       "      <td>2006.0</td>\n",
       "      <td>Sports</td>\n",
       "      <td>Nintendo</td>\n",
       "      <td>41.49</td>\n",
       "      <td>29.02</td>\n",
       "      <td>3.77</td>\n",
       "      <td>8.46</td>\n",
       "      <td>82.74</td>\n",
       "    </tr>\n",
       "    <tr>\n",
       "      <td>3</td>\n",
       "      <td>Mario Kart Wii</td>\n",
       "      <td>Wii</td>\n",
       "      <td>2008.0</td>\n",
       "      <td>Racing</td>\n",
       "      <td>Nintendo</td>\n",
       "      <td>15.85</td>\n",
       "      <td>12.88</td>\n",
       "      <td>3.79</td>\n",
       "      <td>3.31</td>\n",
       "      <td>35.82</td>\n",
       "    </tr>\n",
       "    <tr>\n",
       "      <td>4</td>\n",
       "      <td>Wii Sports Resort</td>\n",
       "      <td>Wii</td>\n",
       "      <td>2009.0</td>\n",
       "      <td>Sports</td>\n",
       "      <td>Nintendo</td>\n",
       "      <td>15.75</td>\n",
       "      <td>11.01</td>\n",
       "      <td>3.28</td>\n",
       "      <td>2.96</td>\n",
       "      <td>33.00</td>\n",
       "    </tr>\n",
       "    <tr>\n",
       "      <td>5</td>\n",
       "      <td>Pokemon Red/Pokemon Blue</td>\n",
       "      <td>GB</td>\n",
       "      <td>1996.0</td>\n",
       "      <td>Role-Playing</td>\n",
       "      <td>Nintendo</td>\n",
       "      <td>11.27</td>\n",
       "      <td>8.89</td>\n",
       "      <td>10.22</td>\n",
       "      <td>1.00</td>\n",
       "      <td>31.37</td>\n",
       "    </tr>\n",
       "    <tr>\n",
       "      <td>6</td>\n",
       "      <td>Tetris</td>\n",
       "      <td>GB</td>\n",
       "      <td>1989.0</td>\n",
       "      <td>Puzzle</td>\n",
       "      <td>Nintendo</td>\n",
       "      <td>23.20</td>\n",
       "      <td>2.26</td>\n",
       "      <td>4.22</td>\n",
       "      <td>0.58</td>\n",
       "      <td>30.26</td>\n",
       "    </tr>\n",
       "  </tbody>\n",
       "</table>\n",
       "</div>"
      ],
      "text/plain": [
       "                          Name Platform    Year         Genre   Company  \\\n",
       "Rank                                                                      \n",
       "1                   Wii Sports      Wii  2006.0        Sports  Nintendo   \n",
       "3               Mario Kart Wii      Wii  2008.0        Racing  Nintendo   \n",
       "4            Wii Sports Resort      Wii  2009.0        Sports  Nintendo   \n",
       "5     Pokemon Red/Pokemon Blue       GB  1996.0  Role-Playing  Nintendo   \n",
       "6                       Tetris       GB  1989.0        Puzzle  Nintendo   \n",
       "\n",
       "      North American Sales  European Sales  Japan Sales  Other Sales  \\\n",
       "Rank                                                                   \n",
       "1                    41.49           29.02         3.77         8.46   \n",
       "3                    15.85           12.88         3.79         3.31   \n",
       "4                    15.75           11.01         3.28         2.96   \n",
       "5                    11.27            8.89        10.22         1.00   \n",
       "6                    23.20            2.26         4.22         0.58   \n",
       "\n",
       "      Global Sales  \n",
       "Rank                \n",
       "1            82.74  \n",
       "3            35.82  \n",
       "4            33.00  \n",
       "5            31.37  \n",
       "6            30.26  "
      ]
     },
     "execution_count": 92,
=======
      "text/plain": [
       "Name                    16598\n",
       "Platform                16598\n",
       "Year                    16327\n",
       "Genre                   16598\n",
       "Company                 16540\n",
       "North American Sales    16598\n",
       "European Sales          16598\n",
       "Japan Sales             16598\n",
       "Other Sales             16598\n",
       "Global Sales            16598\n",
       "dtype: int64"
      ]
     },
     "execution_count": 29,
>>>>>>> 579ef7442b295931a921af03ebca6cc7af572262
     "metadata": {},
     "output_type": "execute_result"
    }
   ],
   "source": [
<<<<<<< HEAD
    "significant_sales = video_games_df[video_games_df.Platform != 'NES']\n",
    "significant_sales.head()"
=======
    "video_games_df.count()"
>>>>>>> 579ef7442b295931a921af03ebca6cc7af572262
   ]
  },
  {
   "cell_type": "code",
<<<<<<< HEAD
   "execution_count": 67,
=======
   "execution_count": 27,
   "metadata": {},
   "outputs": [],
   "source": [
    "video_games_df_clean = video_games_df.dropna()"
   ]
  },
  {
   "cell_type": "code",
   "execution_count": 28,
   "metadata": {},
   "outputs": [
    {
     "data": {
      "text/plain": [
       "Name                    16291\n",
       "Platform                16291\n",
       "Year                    16291\n",
       "Genre                   16291\n",
       "Company                 16291\n",
       "North American Sales    16291\n",
       "European Sales          16291\n",
       "Japan Sales             16291\n",
       "Other Sales             16291\n",
       "Global Sales            16291\n",
       "dtype: int64"
      ]
     },
     "execution_count": 28,
     "metadata": {},
     "output_type": "execute_result"
    }
   ],
   "source": [
    "video_games_df_clean.count()"
   ]
  },
  {
   "cell_type": "code",
   "execution_count": 9,
>>>>>>> 579ef7442b295931a921af03ebca6cc7af572262
   "metadata": {
    "scrolled": true
   },
   "outputs": [
    {
     "data": {
      "image/png": "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\n",
      "text/plain": [
       "<Figure size 1440x720 with 1 Axes>"
      ]
     },
     "metadata": {
      "needs_background": "light"
     },
     "output_type": "display_data"
    }
   ],
   "source": [
    "#find the number of sales per platform for each region\n",
    "platform_df = video_games_df.groupby('Platform')\n",
    "\n",
    "sales = platform_df[[\"North American Sales\",\"European Sales\",\"Japan Sales\",\"Other Sales\",\"Global Sales\"]].sum()\n",
    "\n",
    "#Removing insignificant values\n",
    "\n",
<<<<<<< HEAD
    "significant_sales = sales.drop(columns = [\"Platform\"])\n",
=======
    "\n",
>>>>>>> 579ef7442b295931a921af03ebca6cc7af572262
    "\n",
    "video_games_bar = sales.plot(kind=\"bar\", figsize = (20,10), fontsize = 10)\n",
    "video_games_bar.set_title(\"Video Game Sales by Platform\", bbox ={'facecolor':'0.8', 'pad':5}, fontsize = 20)\n",
    "video_games_bar.set_xlabel(\"Platform\", fontsize = 20)\n",
    "video_games_bar.set_ylabel(\"Sales in Millions\", fontsize = 20)\n",
    "\n",
    "\n",
    "\n",
    "plt.show()\n",
    "#plt.tight_layout()\n"
   ]
  },
  {
   "cell_type": "code",
   "execution_count": 10,
   "metadata": {},
   "outputs": [
    {
     "data": {
      "text/html": [
       "<div>\n",
       "<style scoped>\n",
       "    .dataframe tbody tr th:only-of-type {\n",
       "        vertical-align: middle;\n",
       "    }\n",
       "\n",
       "    .dataframe tbody tr th {\n",
       "        vertical-align: top;\n",
       "    }\n",
       "\n",
       "    .dataframe thead th {\n",
       "        text-align: right;\n",
       "    }\n",
       "</style>\n",
       "<table border=\"1\" class=\"dataframe\">\n",
       "  <thead>\n",
       "    <tr style=\"text-align: right;\">\n",
       "      <th></th>\n",
       "      <th>Name</th>\n",
       "      <th>Platform</th>\n",
       "      <th>Year</th>\n",
       "      <th>Genre</th>\n",
       "      <th>Company</th>\n",
       "      <th>North American Sales</th>\n",
       "      <th>European Sales</th>\n",
       "      <th>Japan Sales</th>\n",
       "      <th>Other Sales</th>\n",
       "      <th>Global Sales</th>\n",
       "    </tr>\n",
       "    <tr>\n",
       "      <th>Rank</th>\n",
       "      <th></th>\n",
       "      <th></th>\n",
       "      <th></th>\n",
       "      <th></th>\n",
       "      <th></th>\n",
       "      <th></th>\n",
       "      <th></th>\n",
       "      <th></th>\n",
       "      <th></th>\n",
       "      <th></th>\n",
       "    </tr>\n",
       "  </thead>\n",
       "  <tbody>\n",
       "    <tr>\n",
       "      <td>7</td>\n",
       "      <td>New Super Mario Bros.</td>\n",
       "      <td>DS</td>\n",
       "      <td>2006.0</td>\n",
       "      <td>Platform</td>\n",
       "      <td>Nintendo</td>\n",
       "      <td>11.38</td>\n",
       "      <td>9.23</td>\n",
       "      <td>6.50</td>\n",
       "      <td>2.90</td>\n",
       "      <td>30.01</td>\n",
       "    </tr>\n",
       "    <tr>\n",
       "      <td>11</td>\n",
       "      <td>Nintendogs</td>\n",
       "      <td>DS</td>\n",
       "      <td>2005.0</td>\n",
       "      <td>Simulation</td>\n",
       "      <td>Nintendo</td>\n",
       "      <td>9.07</td>\n",
       "      <td>11.00</td>\n",
       "      <td>1.93</td>\n",
       "      <td>2.75</td>\n",
       "      <td>24.76</td>\n",
       "    </tr>\n",
       "    <tr>\n",
       "      <td>12</td>\n",
       "      <td>Mario Kart DS</td>\n",
       "      <td>DS</td>\n",
       "      <td>2005.0</td>\n",
       "      <td>Racing</td>\n",
       "      <td>Nintendo</td>\n",
       "      <td>9.81</td>\n",
       "      <td>7.57</td>\n",
       "      <td>4.13</td>\n",
       "      <td>1.92</td>\n",
       "      <td>23.42</td>\n",
       "    </tr>\n",
       "    <tr>\n",
       "      <td>20</td>\n",
       "      <td>Brain Age: Train Your Brain in Minutes a Day</td>\n",
       "      <td>DS</td>\n",
       "      <td>2005.0</td>\n",
       "      <td>Misc</td>\n",
       "      <td>Nintendo</td>\n",
       "      <td>4.75</td>\n",
       "      <td>9.26</td>\n",
       "      <td>4.16</td>\n",
       "      <td>2.05</td>\n",
       "      <td>20.22</td>\n",
       "    </tr>\n",
       "    <tr>\n",
       "      <td>21</td>\n",
       "      <td>Pokemon Diamond/Pokemon Pearl</td>\n",
       "      <td>DS</td>\n",
       "      <td>2006.0</td>\n",
       "      <td>Role-Playing</td>\n",
       "      <td>Nintendo</td>\n",
       "      <td>6.42</td>\n",
       "      <td>4.52</td>\n",
       "      <td>6.04</td>\n",
       "      <td>1.37</td>\n",
       "      <td>18.36</td>\n",
       "    </tr>\n",
       "  </tbody>\n",
       "</table>\n",
       "</div>"
      ],
      "text/plain": [
       "                                              Name Platform    Year  \\\n",
       "Rank                                                                  \n",
       "7                            New Super Mario Bros.       DS  2006.0   \n",
       "11                                      Nintendogs       DS  2005.0   \n",
       "12                                   Mario Kart DS       DS  2005.0   \n",
       "20    Brain Age: Train Your Brain in Minutes a Day       DS  2005.0   \n",
       "21                   Pokemon Diamond/Pokemon Pearl       DS  2006.0   \n",
       "\n",
       "             Genre   Company  North American Sales  European Sales  \\\n",
       "Rank                                                                 \n",
       "7         Platform  Nintendo                 11.38            9.23   \n",
       "11      Simulation  Nintendo                  9.07           11.00   \n",
       "12          Racing  Nintendo                  9.81            7.57   \n",
       "20            Misc  Nintendo                  4.75            9.26   \n",
       "21    Role-Playing  Nintendo                  6.42            4.52   \n",
       "\n",
       "      Japan Sales  Other Sales  Global Sales  \n",
       "Rank                                          \n",
       "7            6.50         2.90         30.01  \n",
       "11           1.93         2.75         24.76  \n",
       "12           4.13         1.92         23.42  \n",
       "20           4.16         2.05         20.22  \n",
       "21           6.04         1.37         18.36  "
      ]
     },
     "execution_count": 10,
     "metadata": {},
     "output_type": "execute_result"
    }
   ],
   "source": [
    "#nintendo = video_games_df.loc(['Platform'] = 'Nintendo')\n",
    "#sorted_platforms_df = platform_df.iloc([\"Global Sales\"] > 10)\n",
    "#sorted_platforms_df.head()\n",
    "ds_data = video_games_df.loc[video_games_df['Platform'] == 'DS', :]\n",
    "ds_data.head()"
   ]
  },
  {
   "cell_type": "code",
   "execution_count": 11,
   "metadata": {},
   "outputs": [
    {
     "data": {
      "image/png": "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\n",
      "text/plain": [
       "<Figure size 1440x720 with 1 Axes>"
      ]
     },
     "metadata": {
      "needs_background": "light"
     },
     "output_type": "display_data"
    },
    {
     "data": {
      "text/plain": [
       "<Figure size 432x288 with 0 Axes>"
      ]
     },
     "metadata": {},
     "output_type": "display_data"
    }
   ],
   "source": [
    "genre_df = video_games_df.groupby('Genre')\n",
    "sales_genre = genre_df[\"North American Sales\",\"European Sales\",\"Japan Sales\",\"Other Sales\",\"Global Sales\"].sum()\n",
    "\n",
    "video_games_genre_bar = sales_genre.plot(kind=\"bar\", figsize = (20,10), fontsize = 20)\n",
    "video_games_genre_bar.set_title(\"Video Game Sales by Genre\", bbox ={'facecolor':'0.8', 'pad':5}, fontsize = 20)\n",
    "video_games_genre_bar.set_xlabel(\"Genre\", fontsize = 20)\n",
    "video_games_genre_bar.set_ylabel(\"Sales in Millions\", fontsize = 20)\n",
    "\n",
    "plt.show()\n",
    "plt.tight_layout()"
   ]
  },
  {
   "cell_type": "code",
   "execution_count": 23,
   "metadata": {},
   "outputs": [
    {
     "data": {
      "image/png": "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\n",
      "text/plain": [
       "<Figure size 360x720 with 1 Axes>"
      ]
     },
     "metadata": {
      "needs_background": "light"
     },
     "output_type": "display_data"
    }
   ],
   "source": [
    "sales = video_games_df['Global Sales']\n",
    "\n",
    "fig1, ax1 = plt.subplots(figsize = (5,10))\n",
    "ax1.set_title('Global Video Game Sales', bbox ={'facecolor':'0.8', 'pad':5})\n",
    "ax1.set_ylabel('Sales in Millions')\n",
    "ax1.boxplot(sales)\n",
    "plt.show()"
   ]
  },
  {
   "cell_type": "code",
   "execution_count": 19,
   "metadata": {},
   "outputs": [
    {
     "name": "stdout",
     "output_type": "stream",
     "text": [
      "The lower quartile of global sales is: 0.06\n",
      "The upper quartile of global sales is: 0.47\n",
      "The interquartile range of global sales is: 0.41\n",
      "The the median of global sales is: 0.17 \n",
      "Values below -0.5549999999999999 could be outliers.\n",
      "Values above 1.085 could be outliers.\n"
     ]
    }
   ],
   "source": [
    "quartiles = sales.quantile([.25,.5,.75])\n",
    "lowerq = quartiles[0.25]\n",
    "upperq = quartiles[0.75]\n",
    "iqr = upperq-lowerq\n",
    "\n",
    "print(f\"The lower quartile of global sales is: {lowerq}\")\n",
    "print(f\"The upper quartile of global sales is: {upperq}\")\n",
    "print(f\"The interquartile range of global sales is: {iqr}\")\n",
    "print(f\"The the median of global sales is: {quartiles[0.5]} \")\n",
    "\n",
    "lower_bound = lowerq - (1.5*iqr)\n",
    "upper_bound = upperq + (1.5*iqr)\n",
    "print(f\"Values below {lower_bound} could be outliers.\")\n",
    "print(f\"Values above {upper_bound} could be outliers.\")"
   ]
  },
  {
   "cell_type": "code",
   "execution_count": null,
   "metadata": {},
   "outputs": [],
   "source": []
  }
 ],
 "metadata": {
  "kernelspec": {
   "display_name": "Python 3",
   "language": "python",
   "name": "python3"
  },
  "language_info": {
   "codemirror_mode": {
    "name": "ipython",
    "version": 3
   },
   "file_extension": ".py",
   "mimetype": "text/x-python",
   "name": "python",
   "nbconvert_exporter": "python",
   "pygments_lexer": "ipython3",
   "version": "3.7.4"
  }
 },
 "nbformat": 4,
 "nbformat_minor": 2
}
